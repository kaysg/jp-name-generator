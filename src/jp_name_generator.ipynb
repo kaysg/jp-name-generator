{
 "cells": [
  {
   "cell_type": "markdown",
   "metadata": {},
   "source": [
    "# Japanese Name Generator"
   ]
  },
  {
   "cell_type": "markdown",
   "metadata": {},
   "source": [
    "- Purpose: To build a character basd LSTM model for generating a Japanese names automatically\n",
    "- Keywords: Character based sequence generation, LSTM, PyTorch"
   ]
  },
  {
   "cell_type": "code",
   "execution_count": 1,
   "metadata": {},
   "outputs": [],
   "source": [
    "import glob\n",
    "import unicodedata\n",
    "import string\n",
    "import random\n",
    "import time\n",
    "import math\n",
    "import codecs\n",
    "\n",
    "import torch\n",
    "import torch.nn as nn\n",
    "from torch.autograd import Variable\n",
    "\n",
    "from sklearn.metrics import classification_report, accuracy_score\n",
    "\n",
    "import matplotlib.pyplot as plt\n",
    "import matplotlib.ticker as ticker\n"
   ]
  },
  {
   "cell_type": "code",
   "execution_count": 2,
   "metadata": {},
   "outputs": [],
   "source": [
    "# 関数動作確認に必要となるパラメータの初期化\n",
    "all_letters = \"ァアィイゥウェエォオカガキギクグケゲコゴサザシジスズセゼソゾタダチヂッツヅテデトド\" \\\n",
    "              \"ナニヌネノハバパヒビピフブプヘベペホボポマミムメモャヤュユョヨラリルレロヮワヰヱヲンヴー\"\n",
    "n_letters = len(all_letters) + 1  # Plus EOS marker\n",
    "all_categories = ['boys_name', 'girls_name']\n",
    "n_categories = len (all_categories)"
   ]
  },
  {
   "cell_type": "code",
   "execution_count": 3,
   "metadata": {},
   "outputs": [],
   "source": [
    "# ファイルを開いて一行ずつリストに格納する関数\n",
    "def readLines(filename):\n",
    "    \"\"\"\n",
    "    Read a file and store the lines into a list\n",
    "    :param filename: single filename\n",
    "    :return: list of lines in the file\n",
    "    \"\"\"\n",
    "    lines = codecs.open(filename, 'r', 'utf-8').read().strip().split('\\n')\n",
    "    return lines"
   ]
  },
  {
   "cell_type": "code",
   "execution_count": 4,
   "metadata": {},
   "outputs": [],
   "source": [
    "# シーケンス生成のためのLSTMモデル定義\n",
    "class LSTM(nn.Module):\n",
    "    def __init__(self, input_size, hidden_size, output_size):\n",
    "        super(LSTM, self).__init__()\n",
    "        self.hidden_size = hidden_size\n",
    "\n",
    "        self.i2h = nn.Linear(n_categories + input_size + hidden_size, hidden_size)\n",
    "        self.i2o = nn.Linear(n_categories + input_size + hidden_size, output_size)\n",
    "        self.o2o = nn.Linear(hidden_size + output_size, output_size)\n",
    "        self.dropout = nn.Dropout(0.1)\n",
    "        #self.softmax = nn.LogSoftmax(dim=1)\n",
    "        self.softmax = nn.LogSoftmax()\n",
    "\n",
    "    def forward(self, category, input, hidden):\n",
    "        input_combined = torch.cat((category, input, hidden), 1)\n",
    "        hidden = self.i2h(input_combined)\n",
    "        output = self.i2o(input_combined)\n",
    "        output_combined = torch.cat((hidden, output), 1)\n",
    "        output = self.o2o(output_combined)\n",
    "        output = self.dropout(output)\n",
    "        output = self.softmax(output)\n",
    "        return output, hidden\n",
    "\n",
    "    def initHidden(self):\n",
    "        return Variable(torch.zeros(1, self.hidden_size))"
   ]
  },
  {
   "cell_type": "code",
   "execution_count": 5,
   "metadata": {},
   "outputs": [],
   "source": [
    "# カテゴリーをOne Hotベクトルへ変換する関数\n",
    "def categoryTensor(category):\n",
    "    \"\"\"\n",
    "    Convert category to One-hot vector tensor\n",
    "    :param category: category in string format\n",
    "    :return: category one hot vector in tensor format\n",
    "    >>> category\n",
    "    >>> 'boys_name'\n",
    "    >>> tensor\n",
    "    >>> 1  0\n",
    "    >>> [torch.FloatTensor of size 1x2]\n",
    "    \"\"\"\n",
    "    li = all_categories.index(category)\n",
    "    tensor = torch.zeros(1, n_categories)\n",
    "    tensor[0][li] = 1\n",
    "    return tensor"
   ]
  },
  {
   "cell_type": "code",
   "execution_count": 6,
   "metadata": {},
   "outputs": [
    {
     "data": {
      "text/plain": [
       "\n",
       " 1  0\n",
       "[torch.FloatTensor of size 1x2]"
      ]
     },
     "execution_count": 6,
     "metadata": {},
     "output_type": "execute_result"
    }
   ],
   "source": [
    "# categoryTensor()のテスト\n",
    "categoryTensor('boys_name')"
   ]
  },
  {
   "cell_type": "code",
   "execution_count": 7,
   "metadata": {},
   "outputs": [],
   "source": [
    "# 入力値(名前)をテンソルへ変換する関数\n",
    "def inputTensor(line):\n",
    "    \"\"\"\n",
    "    Convert name string (not including EOS) to One-hot matrix\n",
    "    :param line: name string\n",
    "    :return: one-hot matrix of name string in tensor\n",
    "    >>> line\n",
    "    >>> 'エナ'\n",
    "    >>> tensor\n",
    "    >>> Columns 0 to 18\n",
    "    >>> 0   0   0   0   0   0   0   1   0   0   0   0   0   0   0   0   0   0   0\n",
    "    >>> ...\n",
    "    >>> [torch.FloatTensor of size 2x1x86]\n",
    "    \"\"\"\n",
    "    tensor = torch.zeros(len(line), 1, n_letters)\n",
    "    for li in range(len(line)):\n",
    "        letter = line[li]\n",
    "        tensor[li][0][all_letters.find(letter)] = 1\n",
    "    return tensor\n"
   ]
  },
  {
   "cell_type": "code",
   "execution_count": 8,
   "metadata": {},
   "outputs": [
    {
     "data": {
      "text/plain": [
       "\n",
       "(0 ,.,.) = \n",
       "\n",
       "Columns 0 to 18 \n",
       "    0   0   0   0   0   0   0   0   0   0   0   0   0   0   0   0   0   0   0\n",
       "\n",
       "Columns 19 to 37 \n",
       "    0   0   0   0   0   0   0   0   0   0   0   1   0   0   0   0   0   0   0\n",
       "\n",
       "Columns 38 to 56 \n",
       "    0   0   0   0   0   0   0   0   0   0   0   0   0   0   0   0   0   0   0\n",
       "\n",
       "Columns 57 to 75 \n",
       "    0   0   0   0   0   0   0   0   0   0   0   0   0   0   0   0   0   0   0\n",
       "\n",
       "Columns 76 to 85 \n",
       "    0   0   0   0   0   0   0   0   0   0\n",
       "\n",
       "(1 ,.,.) = \n",
       "\n",
       "Columns 0 to 18 \n",
       "    0   0   0   0   0   0   0   0   0   0   0   0   0   0   0   0   0   0   0\n",
       "\n",
       "Columns 19 to 37 \n",
       "    0   0   0   0   0   0   0   0   0   0   0   0   0   0   0   0   0   0   0\n",
       "\n",
       "Columns 38 to 56 \n",
       "    0   0   0   0   0   0   0   0   0   0   0   0   0   0   0   0   0   0   0\n",
       "\n",
       "Columns 57 to 75 \n",
       "    0   0   0   0   0   0   0   0   0   0   0   0   0   0   0   0   0   0   0\n",
       "\n",
       "Columns 76 to 85 \n",
       "    1   0   0   0   0   0   0   0   0   0\n",
       "\n",
       "(2 ,.,.) = \n",
       "\n",
       "Columns 0 to 18 \n",
       "    0   0   0   0   0   1   0   0   0   0   0   0   0   0   0   0   0   0   0\n",
       "\n",
       "Columns 19 to 37 \n",
       "    0   0   0   0   0   0   0   0   0   0   0   0   0   0   0   0   0   0   0\n",
       "\n",
       "Columns 38 to 56 \n",
       "    0   0   0   0   0   0   0   0   0   0   0   0   0   0   0   0   0   0   0\n",
       "\n",
       "Columns 57 to 75 \n",
       "    0   0   0   0   0   0   0   0   0   0   0   0   0   0   0   0   0   0   0\n",
       "\n",
       "Columns 76 to 85 \n",
       "    0   0   0   0   0   0   0   0   0   0\n",
       "[torch.FloatTensor of size 3x1x86]"
      ]
     },
     "execution_count": 8,
     "metadata": {},
     "output_type": "execute_result"
    }
   ],
   "source": [
    "inputTensor('タロウ')"
   ]
  },
  {
   "cell_type": "code",
   "execution_count": 9,
   "metadata": {},
   "outputs": [],
   "source": [
    "# ２番目の文字から　EOSまでの文字インデックスのテンソル(LongTensor)を取得する関数\n",
    "# 次の文字を予測するモデルを生成するためには2番目の文字インデックスからテンソル化できることが有用\n",
    "def targetTensor(line):\n",
    "    \"\"\"\n",
    "    LongTensor of second letter to end (EOS) for target\n",
    "    :param line: target name in string format\n",
    "    :return: index vector of letters in string\n",
    "    >>> line\n",
    "    >>> 'リオ'\n",
    "    >>> letter_indexes\n",
    "    >>> [9, 85]\n",
    "    >>> torch.LongTensor(letter_indexes)\n",
    "    >>>   9\n",
    "    >>>  85\n",
    "    >>> [torch.LongTensor of size 2]\n",
    "    \"\"\"\n",
    "    letter_indexes = [all_letters.find(line[li]) for li in range(1, len(line))]\n",
    "    letter_indexes.append(n_letters - 1)  # EOS\n",
    "    return torch.LongTensor(letter_indexes)\n"
   ]
  },
  {
   "cell_type": "code",
   "execution_count": 10,
   "metadata": {},
   "outputs": [
    {
     "data": {
      "text/plain": [
       "\n",
       "  3\n",
       " 85\n",
       "[torch.LongTensor of size 2]"
      ]
     },
     "execution_count": 10,
     "metadata": {},
     "output_type": "execute_result"
    }
   ],
   "source": [
    "targetTensor('アイ')"
   ]
  },
  {
   "cell_type": "code",
   "execution_count": 11,
   "metadata": {},
   "outputs": [],
   "source": [
    "# パラメータ初期化\n",
    "n_iters = 100000\n",
    "print_every = 5000\n",
    "plot_every = 500\n",
    "all_losses = []\n",
    "total_loss = 0  # Reset every plot_every iters\n",
    "learning_rate = 0.0005"
   ]
  },
  {
   "cell_type": "code",
   "execution_count": 12,
   "metadata": {},
   "outputs": [],
   "source": [
    "# 損失関数\n",
    "criterion = nn.NLLLoss()"
   ]
  },
  {
   "cell_type": "code",
   "execution_count": 13,
   "metadata": {},
   "outputs": [],
   "source": [
    "# lstmモデル(LSTMクラスのインスタンス)を生成\n",
    "lstm = LSTM(n_letters, 128, n_letters)"
   ]
  },
  {
   "cell_type": "code",
   "execution_count": 14,
   "metadata": {},
   "outputs": [],
   "source": [
    "# データセットの準備\n",
    "category_lines = {}\n",
    "for filename in glob.glob('../data/jp_names/*.txt'):\n",
    "    category = filename.split('/')[-1].split('.')[0]\n",
    "    lines = readLines(filename)\n",
    "    category_lines[category] = lines"
   ]
  },
  {
   "cell_type": "code",
   "execution_count": 15,
   "metadata": {},
   "outputs": [],
   "source": [
    "# LSTMモデル訓練用の関数\n",
    "# ある文字列から次に続く文字を予測することを目標としている\n",
    "def train(category_tensor, input_line_tensor, target_line_tensor, lr=0.0005):\n",
    "    \"\"\"\n",
    "    Perform training\n",
    "    :param category_tensor: category hot matrix in tensor format\n",
    "    :param input_line_tensor: input name hot matrix in tensor format\n",
    "    :param target_line_tensor: target name index in tensor format\n",
    "    :param lr: learning rate\n",
    "    :return: NN model's output, normalized loss data\n",
    "    \"\"\"\n",
    "\n",
    "    hidden = lstm.initHidden()\n",
    "\n",
    "    lstm.zero_grad()\n",
    "\n",
    "    loss = 0\n",
    "\n",
    "    for i in range(input_line_tensor.size()[0]):\n",
    "        output, hidden = lstm(category_tensor, input_line_tensor[i], hidden)\n",
    "        loss += criterion(output, target_line_tensor[i])\n",
    "\n",
    "    loss.backward()\n",
    "\n",
    "    for p in lstm.parameters():\n",
    "        p.data.add_(-lr, p.grad.data)\n",
    "\n",
    "    return output, loss.data[0] / input_line_tensor.size()[0]\n"
   ]
  },
  {
   "cell_type": "code",
   "execution_count": 16,
   "metadata": {},
   "outputs": [],
   "source": [
    "# 経過時間を取得する関数\n",
    "def timeSince(since):\n",
    "    \"\"\"\n",
    "    Calculate processed time in min and sec\n",
    "    :param since: time data when processing started\n",
    "    :return: string to show min and sec\n",
    "    \"\"\"\n",
    "    now = time.time()\n",
    "    s = now - since\n",
    "    m = math.floor(s / 60)\n",
    "    s -= m * 60\n",
    "    return '%dm %ds' % (m, s)"
   ]
  },
  {
   "cell_type": "code",
   "execution_count": 17,
   "metadata": {},
   "outputs": [
    {
     "name": "stdout",
     "output_type": "stream",
     "text": [
      "0m 28s (5000 5%) 3.3321\n",
      "0m 52s (10000 10%) 2.5643\n",
      "1m 21s (15000 15%) 2.3973\n",
      "1m 48s (20000 20%) 2.2542\n",
      "2m 15s (25000 25%) 2.3280\n",
      "2m 45s (30000 30%) 2.6937\n",
      "3m 13s (35000 35%) 1.6885\n",
      "3m 40s (40000 40%) 3.1563\n",
      "4m 8s (45000 45%) 1.7266\n",
      "4m 35s (50000 50%) 1.4780\n",
      "5m 0s (55000 55%) 2.5657\n",
      "5m 27s (60000 60%) 1.9307\n",
      "5m 54s (65000 65%) 1.5529\n",
      "6m 22s (70000 70%) 1.5517\n",
      "6m 49s (75000 75%) 2.1253\n",
      "7m 17s (80000 80%) 1.2755\n",
      "7m 44s (85000 85%) 1.4601\n",
      "8m 10s (90000 90%) 2.4789\n",
      "8m 37s (95000 95%) 2.3561\n",
      "9m 4s (100000 100%) 2.1673\n"
     ]
    }
   ],
   "source": [
    "# 訓練の実施\n",
    "start = time.time()\n",
    "for iter in range(1, n_iters + 1):\n",
    "    # category, line = randomTrainingPair()\n",
    "    # Generate rondom training pair\n",
    "    category = all_categories[random.randint(0, len(all_categories) - 1)]\n",
    "    line = category_lines[category][random.randint(0, len(category_lines[category]) - 1)]\n",
    "\n",
    "    # Convert to tensor\n",
    "    category_tensor = Variable(categoryTensor(category))\n",
    "    input_line_tensor = Variable(inputTensor(line))\n",
    "    target_line_tensor = Variable(targetTensor(line))\n",
    "\n",
    "    output, loss = train(category_tensor, input_line_tensor, target_line_tensor, learning_rate)\n",
    "    total_loss += loss\n",
    "\n",
    "    if iter % print_every == 0:\n",
    "        print('%s (%d %d%%) %.4f' % (timeSince(start), iter, iter / n_iters * 100, loss))\n",
    "\n",
    "    if iter % plot_every == 0:\n",
    "        all_losses.append(total_loss / plot_every)\n",
    "        total_loss = 0"
   ]
  },
  {
   "cell_type": "code",
   "execution_count": 18,
   "metadata": {},
   "outputs": [
    {
     "data": {
      "image/png": "[encoded data removed]",
      "text/plain": [
       "<Figure size 432x288 with 1 Axes>"
      ]
     },
     "metadata": {},
     "output_type": "display_data"
    }
   ],
   "source": [
    "# イテレーション毎の損失の値を描画\n",
    "plt.figure()\n",
    "plt.plot(all_losses)\n",
    "plt.show()"
   ]
  },
  {
   "cell_type": "code",
   "execution_count": 19,
   "metadata": {},
   "outputs": [],
   "source": [
    "# 訓練後にサンプルを表示するための推論用関数\n",
    "# start_lettersで渡されたそれぞれの文字を先頭として名前を生成し表示\n",
    "def samples(category, start_letters='アイウ'):\n",
    "    \"\"\"\n",
    "    Get multiple samples from one category and evaluate samples from multiple starting letters\n",
    "    :param category: category in tensor format\n",
    "    :param start_letters: several alphabet letters (concatnated) which can be first letter of new name\n",
    "    :return: None\n",
    "    \"\"\"\n",
    "    max_length = 10\n",
    "    category_tensor = Variable(categoryTensor(category))\n",
    "    for start_letter in start_letters:\n",
    "        input = Variable(inputTensor(start_letter))\n",
    "        hidden = lstm.initHidden()\n",
    "        output_name = start_letter\n",
    "        for i in range(max_length):\n",
    "            output, hidden = lstm(category_tensor, input[0], hidden)\n",
    "            topv, topi = output.data.topk(1)\n",
    "            topi = topi[0][0]\n",
    "            if topi == n_letters - 1:\n",
    "                break\n",
    "            else:\n",
    "                letter = all_letters[topi]\n",
    "                output_name += letter\n",
    "            input = Variable(inputTensor(letter))\n",
    "\n",
    "        print(category, output_name)"
   ]
  },
  {
   "cell_type": "code",
   "execution_count": 20,
   "metadata": {},
   "outputs": [
    {
     "name": "stdout",
     "output_type": "stream",
     "text": [
      "boys_name カイチ\n",
      "boys_name キョウスケ\n",
      "boys_name クン\n",
      "boys_name ケン\n",
      "boys_name コンヤ\n"
     ]
    }
   ],
   "source": [
    "# テスト1\n",
    "samples('boys_name', 'カキクケコ')"
   ]
  },
  {
   "cell_type": "code",
   "execution_count": 21,
   "metadata": {},
   "outputs": [
    {
     "name": "stdout",
     "output_type": "stream",
     "text": [
      "girls_name カナ\n",
      "girls_name キナ\n",
      "girls_name クナ\n",
      "girls_name ケイ\n",
      "girls_name コウカ\n"
     ]
    }
   ],
   "source": [
    "# テスト2\n",
    "samples('girls_name', 'カキクケコ')"
   ]
  }
 ],
 "metadata": {
  "kernelspec": {
   "display_name": "Python 3",
   "language": "python",
   "name": "python3"
  },
  "language_info": {
   "codemirror_mode": {
    "name": "ipython",
    "version": 3
   },
   "file_extension": ".py",
   "mimetype": "text/x-python",
   "name": "python",
   "nbconvert_exporter": "python",
   "pygments_lexer": "ipython3",
   "version": "3.6.5"
  }
 },
 "nbformat": 4,
 "nbformat_minor": 2
}
